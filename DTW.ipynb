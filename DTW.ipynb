{
 "cells": [
  {
   "cell_type": "markdown",
   "metadata": {},
   "source": [
    "# Geometric methods for machine learning\n",
    "\n",
    "## Project 2 - Dynamic Time Warping\n",
    "\n",
    "Thomas Gavoille, Guillaume Demonet\n",
    "\n",
    "__References__ : _todo_\n",
    "\n",
    "### Algorithm\n",
    "\n"
   ]
  },
  {
   "cell_type": "code",
   "execution_count": 13,
   "metadata": {
    "collapsed": true
   },
   "outputs": [],
   "source": [
    "from numba import jit\n",
    "\n",
    "@jit\n",
    "def dtw(x, y, cost, default=True):\n",
    "    # Input : two sequences x and y, \n",
    "    #     resp. of size n and m\n",
    "    n = x.shape[0]\n",
    "    m = y.shape[0]\n",
    "    \n",
    "    # Computes the accumulated cost matrix\n",
    "    D = np.zeros((n, m))\n",
    "    D[:, 0] = np.cumsum(cost(x, y[0]))\n",
    "    D[0, :] = np.cumsum(cost(x[0], y))\n",
    "    \n",
    "    for i in range(1,n):\n",
    "        for j in range(1,m):\n",
    "            D[i, j] = min(D[i-1, j-1],\n",
    "                          D[i-1, j],\n",
    "                          D[i, j-1])\n",
    "            \n",
    "    # Returns DTW(x,y) by default\n",
    "    if default:\n",
    "        return D[n-1,m-1]\n",
    "    \n",
    "    else:\n",
    "        # Compute optimal warping path\n",
    "        pass"
   ]
  },
  {
   "cell_type": "code",
   "execution_count": 11,
   "metadata": {
    "collapsed": true
   },
   "outputs": [],
   "source": [
    "@jit\n",
    "def manhattan(x, y):\n",
    "    return np.abs(x - y)"
   ]
  },
  {
   "cell_type": "markdown",
   "metadata": {},
   "source": [
    "***\n",
    "for timing comparison :"
   ]
  },
  {
   "cell_type": "code",
   "execution_count": 15,
   "metadata": {
    "collapsed": true
   },
   "outputs": [],
   "source": [
    "def nojit_dtw(x, y, cost, default=True):\n",
    "    # Input : two sequences x and y, \n",
    "    #     resp. of size n and m\n",
    "    n = x.shape[0]\n",
    "    m = y.shape[0]\n",
    "    \n",
    "    # Computes the accumulated cost matrix\n",
    "    D = np.zeros((n, m))\n",
    "    D[:, 0] = np.cumsum(cost(x, y[0]))\n",
    "    D[0, :] = np.cumsum(cost(x[0], y))\n",
    "    \n",
    "    for i in range(1,n):\n",
    "        for j in range(1,m):\n",
    "            D[i, j] = min(D[i-1, j-1],\n",
    "                          D[i-1, j],\n",
    "                          D[i, j-1])\n",
    "            \n",
    "    # Returns DTW(x,y) by default\n",
    "    if default:\n",
    "        return D[n-1,m-1]\n",
    "    \n",
    "    else:\n",
    "        # Compute optimal warping path\n",
    "        pass\n",
    "    \n",
    "def nojit_manhattan(x, y):\n",
    "    return np.abs(x - y)"
   ]
  },
  {
   "cell_type": "markdown",
   "metadata": {},
   "source": [
    "### Data acquisition\n",
    "\n",
    "We select the following datasets from the UCR archive :\n",
    "\n",
    "+ todo"
   ]
  },
  {
   "cell_type": "code",
   "execution_count": 3,
   "metadata": {
    "collapsed": true
   },
   "outputs": [],
   "source": [
    "import numpy as np"
   ]
  },
  {
   "cell_type": "code",
   "execution_count": 7,
   "metadata": {
    "collapsed": true
   },
   "outputs": [],
   "source": [
    "train = np.genfromtxt(\"50words/50words_TRAIN\",\n",
    "                      delimiter=',')\n",
    "\n",
    "test = np.genfromtxt(\"50words/50words_TEST\",\n",
    "                     delimiter=',')"
   ]
  },
  {
   "cell_type": "markdown",
   "metadata": {},
   "source": [
    "### Pair-wise distance matrix\n",
    "\n",
    "Simple speed benchmark to validate Numba is effective :"
   ]
  },
  {
   "cell_type": "code",
   "execution_count": 30,
   "metadata": {
    "collapsed": false
   },
   "outputs": [
    {
     "name": "stdout",
     "output_type": "stream",
     "text": [
      "10000 loops, best of 3: 196 µs per loop\n"
     ]
    }
   ],
   "source": [
    "%timeit dtw(train[0,1:], train[1,1:], cost = manhattan)"
   ]
  },
  {
   "cell_type": "code",
   "execution_count": 29,
   "metadata": {
    "collapsed": false
   },
   "outputs": [
    {
     "name": "stdout",
     "output_type": "stream",
     "text": [
      "1000 loops, best of 3: 199 µs per loop\n"
     ]
    }
   ],
   "source": [
    "%timeit dtw(train[0,1:], train[1,1:], cost = nojit_manhattan)"
   ]
  },
  {
   "cell_type": "code",
   "execution_count": 28,
   "metadata": {
    "collapsed": false
   },
   "outputs": [
    {
     "name": "stdout",
     "output_type": "stream",
     "text": [
      "10 loops, best of 3: 44.7 ms per loop\n"
     ]
    }
   ],
   "source": [
    "%timeit nojit_dtw(train[0,1:], train[1,1:], cost = manhattan)"
   ]
  },
  {
   "cell_type": "code",
   "execution_count": 27,
   "metadata": {
    "collapsed": false
   },
   "outputs": [
    {
     "name": "stdout",
     "output_type": "stream",
     "text": [
      "10 loops, best of 3: 52.6 ms per loop\n"
     ]
    }
   ],
   "source": [
    "%timeit nojit_dtw(train[0,1:], train[1,1:], cost = nojit_manhattan)"
   ]
  },
  {
   "cell_type": "markdown",
   "metadata": {},
   "source": [
    "We now compute all pair-wise distances :"
   ]
  },
  {
   "cell_type": "code",
   "execution_count": 32,
   "metadata": {
    "collapsed": true
   },
   "outputs": [],
   "source": [
    "@jit\n",
    "def pw_dist(data, cost=manhattan):\n",
    "    \n",
    "    N = data.shape[0]\n",
    "    D = np.zeros((N,N))\n",
    "    \n",
    "    for i in range(N):\n",
    "        for j in range(N):\n",
    "            D[i,j] = dtw(data[i], data[j], cost)\n",
    "            \n",
    "    return D"
   ]
  },
  {
   "cell_type": "code",
   "execution_count": 38,
   "metadata": {
    "collapsed": false
   },
   "outputs": [
    {
     "name": "stdout",
     "output_type": "stream",
     "text": [
      "CPU times: user 39.7 s, sys: 8 ms, total: 39.7 s\n",
      "Wall time: 39.7 s\n"
     ]
    }
   ],
   "source": [
    "%%time\n",
    "D = pw_dist(train[:,1:])"
   ]
  },
  {
   "cell_type": "code",
   "execution_count": 55,
   "metadata": {
    "collapsed": false
   },
   "outputs": [
    {
     "name": "stdout",
     "output_type": "stream",
     "text": [
      "2h 54m\n"
     ]
    }
   ],
   "source": [
    "# time theoretically needed \n",
    "# to compute it without numba\n",
    "t = 39.7*52.6/0.2\n",
    "print(\"{:.0f}h {:.0f}m\".format(t//(60**2), \n",
    "                              (t//60)%60))"
   ]
  },
  {
   "cell_type": "markdown",
   "metadata": {},
   "source": [
    "### Visualization\n",
    "\n",
    "Using _t-SNE_ :"
   ]
  },
  {
   "cell_type": "code",
   "execution_count": 56,
   "metadata": {
    "collapsed": true
   },
   "outputs": [],
   "source": [
    "from sklearn import manifold"
   ]
  },
  {
   "cell_type": "code",
   "execution_count": 58,
   "metadata": {
    "collapsed": false
   },
   "outputs": [],
   "source": [
    "tsne = manifold.TSNE(init='pca', random_state=0)"
   ]
  },
  {
   "cell_type": "code",
   "execution_count": 59,
   "metadata": {
    "collapsed": true
   },
   "outputs": [],
   "source": [
    "import matplotlib.pyplot as plt"
   ]
  },
  {
   "cell_type": "code",
   "execution_count": 63,
   "metadata": {
    "collapsed": true
   },
   "outputs": [],
   "source": [
    "viz = tsne.fit_transform(D, train[:,0])"
   ]
  },
  {
   "cell_type": "code",
   "execution_count": 65,
   "metadata": {
    "collapsed": false
   },
   "outputs": [
    {
     "data": {
      "image/png": "[encoded data removed]",
      "text/plain": [
       "<matplotlib.figure.Figure at 0x7fb330638b38>"
      ]
     },
     "metadata": {},
     "output_type": "display_data"
    }
   ],
   "source": [
    "plt.scatter(viz[:,0], viz[:,1], c=train[:,0])\n",
    "plt.show()"
   ]
  },
  {
   "cell_type": "code",
   "execution_count": null,
   "metadata": {
    "collapsed": true
   },
   "outputs": [],
   "source": []
  }
 ],
 "metadata": {
  "kernelspec": {
   "display_name": "Python 3",
   "language": "python",
   "name": "python3"
  },
  "language_info": {
   "codemirror_mode": {
    "name": "ipython",
    "version": 3
   },
   "file_extension": ".py",
   "mimetype": "text/x-python",
   "name": "python",
   "nbconvert_exporter": "python",
   "pygments_lexer": "ipython3",
   "version": "3.6.0"
  }
 },
 "nbformat": 4,
 "nbformat_minor": 2
}
